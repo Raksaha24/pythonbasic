{
  "nbformat": 4,
  "nbformat_minor": 0,
  "metadata": {
    "colab": {
      "provenance": []
    },
    "kernelspec": {
      "name": "python3",
      "display_name": "Python 3"
    },
    "language_info": {
      "name": "python"
    }
  },
  "cells": [
    {
      "cell_type": "markdown",
      "source": [
        "Q.1  What is python, and why is it popular?\n",
        " - python is a computer programming language. it`s popular because easy to understanding and uses in data science, data analycis and machine larning ect.\n",
        "\n",
        "Q.2 What is an interpreter in python?\n",
        "  - python is an interpreter language because it executes line by line instructions.\n",
        "\n",
        "Q.3 What are pre-defined keywords in python?\n",
        " - keywords are reserved words that have predefined meanings and use in specific purposes in python.\n",
        "\n",
        "Q.4 Can keywords be used as variable names?\n",
        " - No. keywords can`t be used as variable names.\n",
        "\n",
        "Q.5 What is mutability in python?\n",
        "- mutability in python means a data can be changed after creation. like lists, dictionaries.\n",
        "\n",
        "Q.6 Why are lists mutable but tuples are immutable?\n",
        "- lists are mutable because items in lists are modified or change but in case of tuples items are not modified ones it create.\n",
        "\n",
        "Q.7 What is the difference between \" == \" and \" is \" operators in python?\n",
        " - \"==\" is equality operator. it compares the values of two objects and checks if the content or data held by the object is the same. it returns True if the values are equal, that means they are same object in memory.\n",
        "   \"is\" is identity operator. it compares the identity of two objects. it checks if two variables are exact same object in memory location.\n",
        "\n",
        "Q.8 What are logical operators in python?\n",
        "- logical operators are boolean expressionas in python. that means it gives only True or False. there are three main logical operators. these are AND,OR, NOT operators.\n",
        "\n",
        "Q.9 What is type casting in python?\n",
        "- type casting in python means it change the datatype from one from of datatype to another datatype. like integer can converted into float by type casting.\n",
        "\n",
        "Q.10 What is the difference between implicit and explicit type casting?\n",
        "- implicit type casting also known as upcasting. in case of implicit type casting compiler automatically converts a datatype to a inclusive type. one the other hand explicit type casting also known as downcasting. it requires the programmer to use a cast operator to manually convert a datatype to a inclusive type.\n",
        "\n",
        "Q.11 What is the purpose of conditional statement in python?\n",
        " - the purpose of conditional statement in python is to satisfied or executes a specific conditions.\n",
        "\n",
        "Q.12 How does the elif statement work?\n",
        " - the elif statement is a conditional statement that allows to check multiple conditions sequentially. if its condition is true, its code block is executed and the rest of the elif and else blocks are skipped.\n",
        "\n",
        "Q.13 What is the difference between for nad while loops?\n",
        " - the for loops are used to iterating are like over a sequence. but on the other hand while loop continues to execute its code block as long as a specified condition remains true.\n",
        "\n",
        "Q.14 Describes a scenario where a while loop is more suitable than a for loop.\n",
        " - for loop is better when you want a code to run a certain number of times. but while loop better when the condition for the code to keep running until the meet."
      ],
      "metadata": {
        "id": "nZFqdzRFpMVl"
      }
    },
    {
      "cell_type": "code",
      "execution_count": null,
      "metadata": {
        "colab": {
          "base_uri": "https://localhost:8080/"
        },
        "id": "kH5CnifQo_sa",
        "outputId": "8c340293-dc98-4a51-d76f-2d4ef275d981"
      },
      "outputs": [
        {
          "output_type": "stream",
          "name": "stdout",
          "text": [
            "Hello, World!\n"
          ]
        }
      ],
      "source": [
        "#Q.1 Write a python program to print \"Hello, World!\"\n",
        "print(\"Hello, World!\")"
      ]
    },
    {
      "cell_type": "code",
      "source": [
        "#Q.2 Write a python program that displays your name and age.\n",
        "name = input(\"your name\")\n",
        "age = input(\"your age\")\n",
        "print(name,age)"
      ],
      "metadata": {
        "colab": {
          "base_uri": "https://localhost:8080/"
        },
        "id": "YD46ImZq6dhN",
        "outputId": "88e2d3d2-c4eb-42cd-dec1-879605a4e906"
      },
      "execution_count": null,
      "outputs": [
        {
          "output_type": "stream",
          "name": "stdout",
          "text": [
            "your name Rakesh sah\n",
            "your age 32\n",
            " Rakesh sah  32\n"
          ]
        }
      ]
    },
    {
      "cell_type": "code",
      "source": [
        "#Q.3 Write code to print all the pre-defined keywords in python using the keyword library.\n",
        "import keyword\n",
        "print(keyword.kwlist)"
      ],
      "metadata": {
        "colab": {
          "base_uri": "https://localhost:8080/"
        },
        "id": "o-gUepaM7hR-",
        "outputId": "763c4dab-4843-4341-e0d9-eaff106fa05f"
      },
      "execution_count": null,
      "outputs": [
        {
          "output_type": "stream",
          "name": "stdout",
          "text": [
            "['False', 'None', 'True', 'and', 'as', 'assert', 'async', 'await', 'break', 'class', 'continue', 'def', 'del', 'elif', 'else', 'except', 'finally', 'for', 'from', 'global', 'if', 'import', 'in', 'is', 'lambda', 'nonlocal', 'not', 'or', 'pass', 'raise', 'return', 'try', 'while', 'with', 'yield']\n"
          ]
        }
      ]
    },
    {
      "cell_type": "code",
      "source": [
        "#Q.4 Write a program that checks if a given word is a python keyword.\n",
        "import keyword\n",
        "s = input(\"enter a word\")\n",
        "if keyword.iskeyword(s):\n",
        "    print(f\"{s} is a python keyword\")\n",
        "else:\n",
        "    print(f\"{s} is not a python keyword\")\n"
      ],
      "metadata": {
        "colab": {
          "base_uri": "https://localhost:8080/"
        },
        "id": "FuZZ_IZT-Z9F",
        "outputId": "1418bccd-41a3-46a2-b40d-b0e0189786b8"
      },
      "execution_count": null,
      "outputs": [
        {
          "output_type": "stream",
          "name": "stdout",
          "text": [
            "enter a wordfor\n",
            "for is a python keyword\n"
          ]
        }
      ]
    },
    {
      "cell_type": "code",
      "source": [
        "#Q.5 Create a list and tuple in python and demonstrate how attempting to change an element works differently for each.\n",
        "shop_bag = [1, 2, 3.4, \"paper\", 3 + 4j]\n",
        "print(shop_bag)\n",
        "type(shop_bag)"
      ],
      "metadata": {
        "colab": {
          "base_uri": "https://localhost:8080/"
        },
        "id": "olN1jKRF_w3L",
        "outputId": "e4bd78ac-f9da-402b-ffb0-e84a1d89ea7d"
      },
      "execution_count": null,
      "outputs": [
        {
          "output_type": "stream",
          "name": "stdout",
          "text": [
            "[1, 2, 3.4, 'paper', (3+4j)]\n"
          ]
        },
        {
          "output_type": "execute_result",
          "data": {
            "text/plain": [
              "2"
            ]
          },
          "metadata": {},
          "execution_count": 11
        }
      ]
    },
    {
      "cell_type": "code",
      "source": [
        "shop_bag[2] = \"rakesh\"\n",
        "shop_bag"
      ],
      "metadata": {
        "colab": {
          "base_uri": "https://localhost:8080/"
        },
        "id": "LKmAglY3B9il",
        "outputId": "d6d11fc7-bd92-4027-de02-1f177898f0a2"
      },
      "execution_count": null,
      "outputs": [
        {
          "output_type": "execute_result",
          "data": {
            "text/plain": [
              "[1, 2, 'rakesh', 'paper', (3+4j)]"
            ]
          },
          "metadata": {},
          "execution_count": 14
        }
      ]
    },
    {
      "cell_type": "code",
      "source": [
        "# change an element\n",
        "s = (1, 3.4, \"paper\", 3 + 4j)\n",
        "print(s)\n",
        "type(s)"
      ],
      "metadata": {
        "colab": {
          "base_uri": "https://localhost:8080/"
        },
        "id": "nDH0B_ADCPH7",
        "outputId": "eecc612b-f15d-4f80-a402-053c5cc58b1b"
      },
      "execution_count": null,
      "outputs": [
        {
          "output_type": "stream",
          "name": "stdout",
          "text": [
            "(1, 3.4, 'paper', (3+4j))\n"
          ]
        },
        {
          "output_type": "execute_result",
          "data": {
            "text/plain": [
              "tuple"
            ]
          },
          "metadata": {},
          "execution_count": 16
        }
      ]
    },
    {
      "cell_type": "code",
      "source": [
        "# change an element in tuple gives an error\n",
        "s[2] = \"ajay\""
      ],
      "metadata": {
        "colab": {
          "base_uri": "https://localhost:8080/",
          "height": 141
        },
        "id": "VA6zvsv-DnF4",
        "outputId": "ddc3f5e2-e454-4d66-fd33-e159ef7163a5"
      },
      "execution_count": null,
      "outputs": [
        {
          "output_type": "error",
          "ename": "TypeError",
          "evalue": "'tuple' object does not support item assignment",
          "traceback": [
            "\u001b[0;31m---------------------------------------------------------------------------\u001b[0m",
            "\u001b[0;31mTypeError\u001b[0m                                 Traceback (most recent call last)",
            "\u001b[0;32m<ipython-input-18-e270176a18ad>\u001b[0m in \u001b[0;36m<cell line: 0>\u001b[0;34m()\u001b[0m\n\u001b[0;32m----> 1\u001b[0;31m \u001b[0ms\u001b[0m\u001b[0;34m[\u001b[0m\u001b[0;36m2\u001b[0m\u001b[0;34m]\u001b[0m \u001b[0;34m=\u001b[0m \u001b[0;34m\"ajay\"\u001b[0m\u001b[0;34m\u001b[0m\u001b[0;34m\u001b[0m\u001b[0m\n\u001b[0m",
            "\u001b[0;31mTypeError\u001b[0m: 'tuple' object does not support item assignment"
          ]
        }
      ]
    },
    {
      "cell_type": "code",
      "source": [
        "#Q.6 Write a function to demonstrate the behavior of mutable and immutable arguments.\n",
        "students = [\"rakesh\", \"roni\", \"rajib\", \"surjo\"]\n",
        "print(students)\n",
        "students.append(\"ajay\")\n",
        "print(students) # to change the element >> mutable"
      ],
      "metadata": {
        "colab": {
          "base_uri": "https://localhost:8080/"
        },
        "id": "eH_Mx4VrEwXZ",
        "outputId": "7b92e999-bb13-4fa8-93b8-6d294eff3215"
      },
      "execution_count": null,
      "outputs": [
        {
          "output_type": "stream",
          "name": "stdout",
          "text": [
            "['rakesh', 'roni', 'rajib', 'surjo']\n",
            "['rakesh', 'roni', 'rajib', 'surjo', 'ajay']\n"
          ]
        }
      ]
    },
    {
      "cell_type": "code",
      "source": [
        "roll_no = (1, 12, 31, 47)\n",
        "print(roll_no)\n",
        "roll_no.append(5)\n",
        "print(roll_no) # try to change the element but its not happend >> immutable"
      ],
      "metadata": {
        "colab": {
          "base_uri": "https://localhost:8080/",
          "height": 211
        },
        "id": "wWVWAHuvGtuN",
        "outputId": "c7008842-34e8-4075-d53a-5275b2d3b809"
      },
      "execution_count": null,
      "outputs": [
        {
          "output_type": "stream",
          "name": "stdout",
          "text": [
            "(1, 12, 31, 47)\n"
          ]
        },
        {
          "output_type": "error",
          "ename": "AttributeError",
          "evalue": "'tuple' object has no attribute 'append'",
          "traceback": [
            "\u001b[0;31m---------------------------------------------------------------------------\u001b[0m",
            "\u001b[0;31mAttributeError\u001b[0m                            Traceback (most recent call last)",
            "\u001b[0;32m<ipython-input-22-e001728a308f>\u001b[0m in \u001b[0;36m<cell line: 0>\u001b[0;34m()\u001b[0m\n\u001b[1;32m      1\u001b[0m \u001b[0mroll_no\u001b[0m \u001b[0;34m=\u001b[0m \u001b[0;34m(\u001b[0m\u001b[0;36m1\u001b[0m\u001b[0;34m,\u001b[0m \u001b[0;36m12\u001b[0m\u001b[0;34m,\u001b[0m \u001b[0;36m31\u001b[0m\u001b[0;34m,\u001b[0m \u001b[0;36m47\u001b[0m\u001b[0;34m)\u001b[0m\u001b[0;34m\u001b[0m\u001b[0;34m\u001b[0m\u001b[0m\n\u001b[1;32m      2\u001b[0m \u001b[0mprint\u001b[0m\u001b[0;34m(\u001b[0m\u001b[0mroll_no\u001b[0m\u001b[0;34m)\u001b[0m\u001b[0;34m\u001b[0m\u001b[0;34m\u001b[0m\u001b[0m\n\u001b[0;32m----> 3\u001b[0;31m \u001b[0mroll_no\u001b[0m\u001b[0;34m.\u001b[0m\u001b[0mappend\u001b[0m\u001b[0;34m(\u001b[0m\u001b[0;36m5\u001b[0m\u001b[0;34m)\u001b[0m\u001b[0;34m\u001b[0m\u001b[0;34m\u001b[0m\u001b[0m\n\u001b[0m\u001b[1;32m      4\u001b[0m \u001b[0mprint\u001b[0m\u001b[0;34m(\u001b[0m\u001b[0mroll_no\u001b[0m\u001b[0;34m)\u001b[0m \u001b[0;31m# to change the element >>\u001b[0m\u001b[0;34m\u001b[0m\u001b[0;34m\u001b[0m\u001b[0m\n",
            "\u001b[0;31mAttributeError\u001b[0m: 'tuple' object has no attribute 'append'"
          ]
        }
      ]
    },
    {
      "cell_type": "code",
      "source": [
        "#Q.7 Write a program that performs basic arithmatic operations on two user-input numbers.\n",
        "num1 = int(input(\"enter a number\"))\n",
        "num2 = int(input(\"enter a number\"))\n",
        "print(num1 + num2)\n",
        "print(num1 - num2)\n",
        "print(num1 * num2)"
      ],
      "metadata": {
        "colab": {
          "base_uri": "https://localhost:8080/"
        },
        "id": "NaqNy1esHVCb",
        "outputId": "c14b2bc0-3c0a-473a-e120-4f6899b489d1"
      },
      "execution_count": null,
      "outputs": [
        {
          "output_type": "stream",
          "name": "stdout",
          "text": [
            "enter a number 45\n",
            "enter a number 56\n",
            "101\n",
            "-11\n",
            "2520\n"
          ]
        }
      ]
    },
    {
      "cell_type": "code",
      "source": [
        "#Q.8 Write a program to demonstrate the use of logical operations.\n",
        "a = True\n",
        "b = False\n",
        "print(a and b)\n",
        "print(a or b)\n",
        "print(not a)"
      ],
      "metadata": {
        "id": "8ceQgVUIISwR",
        "colab": {
          "base_uri": "https://localhost:8080/"
        },
        "outputId": "ba3bbc05-e64b-4242-a40e-92eeb4f72f2a"
      },
      "execution_count": null,
      "outputs": [
        {
          "output_type": "stream",
          "name": "stdout",
          "text": [
            "False\n",
            "True\n",
            "False\n"
          ]
        }
      ]
    },
    {
      "cell_type": "code",
      "source": [
        "#Q.9 Write a python program to convert user input from string to integer, float and boolean types.\n",
        "s = \"50\"\n",
        "num = int(s)\n",
        "print(num) # string converted to integer\n",
        "type(num)"
      ],
      "metadata": {
        "colab": {
          "base_uri": "https://localhost:8080/"
        },
        "id": "qlkDiKFDH0eg",
        "outputId": "f7ca610b-71d1-451e-ae9f-5dc97cae3d9d"
      },
      "execution_count": null,
      "outputs": [
        {
          "output_type": "stream",
          "name": "stdout",
          "text": [
            "50\n"
          ]
        },
        {
          "output_type": "execute_result",
          "data": {
            "text/plain": [
              "int"
            ]
          },
          "metadata": {},
          "execution_count": 5
        }
      ]
    },
    {
      "cell_type": "code",
      "source": [
        "num1 = float(s)\n",
        "print(num1) # string converted to float\n",
        "type(num1)"
      ],
      "metadata": {
        "colab": {
          "base_uri": "https://localhost:8080/"
        },
        "id": "k_Tvgv_OI_vF",
        "outputId": "2c203b1b-eb5d-4648-936c-8197950241f5"
      },
      "execution_count": null,
      "outputs": [
        {
          "output_type": "stream",
          "name": "stdout",
          "text": [
            "50.0\n"
          ]
        },
        {
          "output_type": "execute_result",
          "data": {
            "text/plain": [
              "float"
            ]
          },
          "metadata": {},
          "execution_count": 7
        }
      ]
    },
    {
      "cell_type": "code",
      "source": [
        "str1 = \"True\"\n",
        "str2 = \"False\"\n",
        "bool1 = bool(str1)\n",
        "bool2 = bool(str2)\n",
        "print(bool1) # string converted to boolean\n",
        "print(bool2)\n",
        "type(bool1)"
      ],
      "metadata": {
        "colab": {
          "base_uri": "https://localhost:8080/"
        },
        "id": "lzwsQ-pTJx-3",
        "outputId": "1a5fe841-2267-4e90-e7ee-b0f7bd4ee285"
      },
      "execution_count": null,
      "outputs": [
        {
          "output_type": "stream",
          "name": "stdout",
          "text": [
            "True\n",
            "True\n"
          ]
        },
        {
          "output_type": "execute_result",
          "data": {
            "text/plain": [
              "bool"
            ]
          },
          "metadata": {},
          "execution_count": 14
        }
      ]
    },
    {
      "cell_type": "code",
      "source": [
        "# Q.10 Write code to demonstrate type casting with list elements.\n",
        "a = [1, 3 , 56, 20]\n",
        "b = [5, 8, 24, 60]\n",
        "c = [str(x) for x in a]\n",
        "d = [str(y) for y in b]\n",
        "print(c)\n",
        "print(d)"
      ],
      "metadata": {
        "colab": {
          "base_uri": "https://localhost:8080/"
        },
        "id": "X6gVxVu6KiGn",
        "outputId": "7b17bae7-4f6a-4390-cfda-12f9538f2b44"
      },
      "execution_count": null,
      "outputs": [
        {
          "output_type": "stream",
          "name": "stdout",
          "text": [
            "['1', '3', '56', '20']\n",
            "['5', '8', '24', '60']\n"
          ]
        }
      ]
    },
    {
      "cell_type": "code",
      "source": [
        "#Q.11 Write a program that checks if a number is positive, negative or zero.\n",
        "num = int(input(\"enter a number\"))\n",
        "if num > 0:\n",
        "    print(\"positive\")\n",
        "elif num < 0:\n",
        "    print(\"negative\")\n",
        "else:\n",
        "    print(\"zero\")"
      ],
      "metadata": {
        "colab": {
          "base_uri": "https://localhost:8080/"
        },
        "id": "rLcAfWtSMl7r",
        "outputId": "89685464-b84b-4f33-96ad-b4efb4a8cdc1"
      },
      "execution_count": 17,
      "outputs": [
        {
          "output_type": "stream",
          "name": "stdout",
          "text": [
            "enter a number 45\n",
            "positive\n"
          ]
        }
      ]
    },
    {
      "cell_type": "code",
      "source": [
        "#Q.12 Write a for loop to print numbers from 1 to 10.\n",
        "for i in range(1,11):\n",
        "    print(i)"
      ],
      "metadata": {
        "colab": {
          "base_uri": "https://localhost:8080/"
        },
        "id": "E_WjLwUvNB6Q",
        "outputId": "edd62e3a-b9d8-47dc-8295-22fc1205e158"
      },
      "execution_count": 18,
      "outputs": [
        {
          "output_type": "stream",
          "name": "stdout",
          "text": [
            "1\n",
            "2\n",
            "3\n",
            "4\n",
            "5\n",
            "6\n",
            "7\n",
            "8\n",
            "9\n",
            "10\n"
          ]
        }
      ]
    },
    {
      "cell_type": "code",
      "source": [
        "#Q.13 Write a python program to find the sum of all even numbers between 1 and 50.\n",
        "sum_of_even = 0\n",
        "for i in range(1,51):\n",
        "    if i % 2 == 0:\n",
        "        sum_of_even += i\n",
        "print(sum_of_even)\n"
      ],
      "metadata": {
        "colab": {
          "base_uri": "https://localhost:8080/"
        },
        "id": "X_MquNPtNYuS",
        "outputId": "92d93d02-d79e-4903-937b-c3e0880f3e71"
      },
      "execution_count": 35,
      "outputs": [
        {
          "output_type": "stream",
          "name": "stdout",
          "text": [
            "650\n"
          ]
        }
      ]
    },
    {
      "cell_type": "code",
      "source": [
        "#Q.14 Write a program to reverse a string using a while loop.\n",
        "s = input(\"enter a string\")\n",
        "reverse = \"\"\n",
        "length = len(s)\n",
        "while length > 0:\n",
        "    reverse += s[length - 1]\n",
        "    length -= 1\n",
        "print(reverse)"
      ],
      "metadata": {
        "colab": {
          "base_uri": "https://localhost:8080/"
        },
        "id": "D38kjxOMQ2Jy",
        "outputId": "2af24099-c8ea-4dcf-d9fc-1ac54117b4c7"
      },
      "execution_count": 36,
      "outputs": [
        {
          "output_type": "stream",
          "name": "stdout",
          "text": [
            "enter a string rakesh\n",
            "hsekar \n"
          ]
        }
      ]
    },
    {
      "cell_type": "code",
      "source": [
        "#Q.15 Write a python program to calculate the factorial of a number provided by the user using a while loop.\n",
        "s = 7\n",
        "fact = 1 # initialisation with 1\n",
        "while s > 0:\n",
        "    fact *= s\n",
        "    s -= 1\n",
        "print(fact)"
      ],
      "metadata": {
        "colab": {
          "base_uri": "https://localhost:8080/"
        },
        "id": "d_f1JcBFRPOX",
        "outputId": "a62364a5-356b-47f1-caee-9bc25e6bc219"
      },
      "execution_count": 40,
      "outputs": [
        {
          "output_type": "stream",
          "name": "stdout",
          "text": [
            "5040\n"
          ]
        }
      ]
    }
  ]
}